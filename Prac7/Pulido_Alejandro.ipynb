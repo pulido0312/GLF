{
 "cells": [
  {
   "cell_type": "markdown",
   "id": "9c75e7ff-6083-48cc-bce9-50250248128e",
   "metadata": {},
   "source": [
    "## Entrega 7. Proyecto FST"
   ]
  },
  {
   "cell_type": "markdown",
   "id": "a541ef7b-22e1-4150-bea7-b3964510b27a",
   "metadata": {},
   "source": [
    "### Autor: Alejandro Pulido Sánchez"
   ]
  },
  {
   "cell_type": "code",
   "execution_count": 9,
   "id": "4416f627-82e4-4428-a6e2-5036a550b6f5",
   "metadata": {},
   "outputs": [],
   "source": [
    "from pynini import *\n",
    "import os"
   ]
  },
  {
   "cell_type": "code",
   "execution_count": 10,
   "id": "f56bcb11-d1e9-4bd5-aae2-f7f14bd56b68",
   "metadata": {},
   "outputs": [],
   "source": [
    "#Abrimos el archivo de ejemplo\n",
    "texto = open('texto.html')"
   ]
  },
  {
   "cell_type": "code",
   "execution_count": 11,
   "id": "1ebe5b0f-02cd-47db-bde2-e6508dd4c6e0",
   "metadata": {},
   "outputs": [],
   "source": [
    "#Funcion que se encargará de traducir el archivo con lenguaje HTML a Markdown\n",
    "def traductor(linea, fichero):\n",
    "    #Creamos el alfabeto sobre el que se aplicarán las reglas del SFT\n",
    "    chars = [chr(i) for i in range(1,91)] + [r\"\\[\", r\"\\\\\", r\"\\]\"] + [chr(i) for i in range(94,256)] \n",
    "    sigma_star = union(*chars).closure()\n",
    "    #Hacemos la union de todos los fst que sustituyen unas sentencias por otra\n",
    "    R = union(string_map([(\"</i>\", \"*\")]),string_map([(\"<b>\", \"**\")]),string_map([(\"</b>\", \"**\")]),string_map([(\"<ul>\", \"\")]),\n",
    "              string_map([(\"</h3>\", \"\")]),string_map([(\"<h1>\", \"# \")]),string_map([(\"</h1>\", \" \")]),string_map([(\"<h4>\", \"#### \")]),\n",
    "              string_map([(\"<h2>\", \"## \")]),string_map([(\"</h2>\", \"\")]),string_map([(\"<html>\",\"\")]),string_map([(\"<h3>\", \"### \")]),\n",
    "              string_map([(\"</h6>\", \"\")]),string_map([(\"<br>\", \"\\n\")]),string_map([(\"</br>\", \"\")]),string_map([(\"<i>\", \"*\")]),\n",
    "              string_map([(\"</h4>\", \"\")]),string_map([(\"<h5>\", \"##### \")]),string_map([(\"</h5>\", \"\")]),string_map([(\"<h6>\", \"###### \")]),\n",
    "              string_map([(\"<p>\", \"\")]),string_map([(\"</p>\",\"\")]),string_map([(\"</ul>\", \"\")]),string_map([(\"\\n\", \"\\t\")]),\n",
    "              string_map([(\"<li>\", \"- \")]),string_map([(\"</li>\", \"\\n\")]),string_map([(\"<hr>\", \"---\")]),string_map([(\"</html>\", \"\")]),\n",
    "              string_map([(\"<a href=\\\"\",\"\\[(\")]), string_map([(\"</a>\",\"\\]\")]), string_map([(\"\\\">\",\")\")]))\n",
    "    \n",
    "    trans = cdrewrite(R, \"\", \"\", sigma_star)\n",
    "    #Utilizamos los transductores para trasnformar las sentencias HTML por las Markdown y lo transformamos en uun string \n",
    "    cadena = compose(linea, trans).string()\n",
    "    \n",
    "    cadenaImp=cadena\n",
    "    # Si hay u enlace lo intercambiamos de posicion\n",
    "    if('[(' in cadena and ']' in cadena and ')' in cadena):\n",
    "        # Definimos las cadenas que contienen el enlace y el resto de la cadena obteniendo su rango mediante la función index\n",
    "        link = cadena[cadena.index('('):cadena.index(')')+1]\n",
    "        string = cadena[cadena.index(')')+1:cadena.index(']')+1]\n",
    "        \n",
    "        # Ahora procedemos a cambiar de posición el enlace y el resto de la cadena con ayuuda de una variable auxiliar\n",
    "        cadena2 = cadena.replace( string,\"aux\")\n",
    "        cadena2 = cadena2.replace( link ,string)\n",
    "        cadena2 = cadena2.replace(\"aux\", link)\n",
    "        \n",
    "        cadenaImp=cadena2    \n",
    "    \n",
    "    #Escribimos la linea obtenida en el fichero destino\n",
    "    fichero.write(cadenaImp + os.linesep)"
   ]
  },
  {
   "cell_type": "code",
   "execution_count": 12,
   "id": "4885e55a-43b7-4fdc-ac9e-a00e3249ae09",
   "metadata": {},
   "outputs": [],
   "source": [
    "#Leemos el texto dado linea a linea\n",
    "linea = texto.readlines()\n",
    "#Abrimos fichero de destino\n",
    "fichero = open(\"Pulido_Alejandro.md\",\"w\")\n",
    "#Llamamos a la funcion traductor para que traduzca el archivo linea a linea\n",
    "for i in range(len(linea)):\n",
    "    traductor(linea[i], fichero)\n",
    "#Cerramos fichero\n",
    "fichero.close()"
   ]
  }
 ],
 "metadata": {
  "kernelspec": {
   "display_name": "Python 3 (ipykernel)",
   "language": "python",
   "name": "python3"
  },
  "language_info": {
   "codemirror_mode": {
    "name": "ipython",
    "version": 3
   },
   "file_extension": ".py",
   "mimetype": "text/x-python",
   "name": "python",
   "nbconvert_exporter": "python",
   "pygments_lexer": "ipython3",
   "version": "3.9.7"
  }
 },
 "nbformat": 4,
 "nbformat_minor": 5
}
